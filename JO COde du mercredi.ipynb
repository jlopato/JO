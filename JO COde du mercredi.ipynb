{
 "cells": [
  {
   "cell_type": "code",
   "execution_count": 12,
   "id": "ba06fc21",
   "metadata": {},
   "outputs": [
    {
     "data": {
      "text/plain": [
       "['d', 'i', 'n']"
      ]
     },
     "execution_count": 12,
     "metadata": {},
     "output_type": "execute_result"
    }
   ],
   "source": [
    "a = \"din\"\n",
    "list1 = []\n",
    "list1[:0] = \"din\"\n",
    "list1"
   ]
  },
  {
   "cell_type": "code",
   "execution_count": 70,
   "id": "26569b41",
   "metadata": {},
   "outputs": [
    {
     "data": {
      "text/plain": [
       "'()()()'"
      ]
     },
     "execution_count": 70,
     "metadata": {},
     "output_type": "execute_result"
    }
   ],
   "source": [
    "\n",
    "\n",
    "def duplicate_encode(word):\n",
    "#    si j'ai un carractere sans repetition\n",
    "#    alors j'écris \"(\" sinon \")\"\n",
    "    tex_final = []\n",
    "    tex = word.lower()\n",
    "    for i in tex:\n",
    "        if tex.count(i)>=2:\n",
    "            tex_final.append(\")\")\n",
    "        else:\n",
    "            tex_final.append(\"(\")\n",
    " \n",
    "    return \"\".join(tex_final)\n",
    "\n",
    "\n",
    "duplicate_encode(\"recede\")"
   ]
  },
  {
   "cell_type": "code",
   "execution_count": 67,
   "id": "fa959256",
   "metadata": {},
   "outputs": [
    {
     "data": {
      "text/plain": [
       "'((('"
      ]
     },
     "execution_count": 67,
     "metadata": {},
     "output_type": "execute_result"
    }
   ],
   "source": [
    "def duplicate_encode(word):\n",
    "    #yurong\n",
    "    wor = word.lower()\n",
    "    a = [i for i in wor]\n",
    "    return \"\".join(\"(\" if a.count(i)==1 else \")\" for i in a)\n",
    "\n",
    "duplicate_encode(\"din\")"
   ]
  },
  {
   "cell_type": "code",
   "execution_count": 68,
   "id": "66d6f598",
   "metadata": {},
   "outputs": [
    {
     "data": {
      "text/plain": [
       "'(())'"
      ]
     },
     "execution_count": 68,
     "metadata": {},
     "output_type": "execute_result"
    }
   ],
   "source": [
    "def duplicate_encode(word):\n",
    "    return \"\".join([\"(\" if word.lower().count(c) == 1 else \")\" for c in word.lower()])\n",
    "\n",
    "duplicate_encode('dinn')"
   ]
  },
  {
   "cell_type": "code",
   "execution_count": 76,
   "id": "72c588ad",
   "metadata": {},
   "outputs": [
    {
     "name": "stdout",
     "output_type": "stream",
     "text": [
      "['d', 'i', 'n']\n"
     ]
    },
    {
     "data": {
      "text/plain": [
       "'((('"
      ]
     },
     "execution_count": 76,
     "metadata": {},
     "output_type": "execute_result"
    }
   ],
   "source": [
    "def duplicate_encode(word):\n",
    "    #si j'ai un carractère sans répition alors j'écris \"(\" sinon\")\"\n",
    "    # la sortie doit être une string\n",
    "    # if car.count in string == 1 add \"(\" to string else add \")\"\n",
    "    word = word.lower()\n",
    "    a = [i for i in word]\n",
    "    print(a)\n",
    "    return \"\".join(\"(\" if a.count(i)==1 else \")\" for i in a)\n",
    "                \n",
    "    \n",
    "duplicate_encode(\"din\")"
   ]
  },
  {
   "cell_type": "code",
   "execution_count": null,
   "id": "453cadc6",
   "metadata": {},
   "outputs": [],
   "source": []
  }
 ],
 "metadata": {
  "kernelspec": {
   "display_name": "Python 3 (ipykernel)",
   "language": "python",
   "name": "python3"
  },
  "language_info": {
   "codemirror_mode": {
    "name": "ipython",
    "version": 3
   },
   "file_extension": ".py",
   "mimetype": "text/x-python",
   "name": "python",
   "nbconvert_exporter": "python",
   "pygments_lexer": "ipython3",
   "version": "3.8.13"
  },
  "toc": {
   "base_numbering": 1,
   "nav_menu": {},
   "number_sections": true,
   "sideBar": true,
   "skip_h1_title": false,
   "title_cell": "Table of Contents",
   "title_sidebar": "Contents",
   "toc_cell": false,
   "toc_position": {},
   "toc_section_display": true,
   "toc_window_display": false
  }
 },
 "nbformat": 4,
 "nbformat_minor": 5
}
